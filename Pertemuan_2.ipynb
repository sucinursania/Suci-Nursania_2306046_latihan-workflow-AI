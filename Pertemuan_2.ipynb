{
  "nbformat": 4,
  "nbformat_minor": 0,
  "metadata": {
    "colab": {
      "provenance": [],
      "authorship_tag": "ABX9TyMHOc5er8z/qG174QMJaSmO",
      "include_colab_link": true
    },
    "kernelspec": {
      "name": "python3",
      "display_name": "Python 3"
    },
    "language_info": {
      "name": "python"
    }
  },
  "cells": [
    {
      "cell_type": "markdown",
      "metadata": {
        "id": "view-in-github",
        "colab_type": "text"
      },
      "source": [
        "<a href=\"https://colab.research.google.com/github/sucinursania/Suci-Nursania_2306046_latihan-workflow-AI/blob/main/Pertemuan_2.ipynb\" target=\"_parent\"><img src=\"https://colab.research.google.com/assets/colab-badge.svg\" alt=\"Open In Colab\"/></a>"
      ]
    },
    {
      "cell_type": "code",
      "execution_count": 7,
      "metadata": {
        "colab": {
          "base_uri": "https://localhost:8080/"
        },
        "id": "A4cE3IZrsGz6",
        "outputId": "ee8bdac3-24a0-44f4-d742-5b979deeabdd"
      },
      "outputs": [
        {
          "output_type": "stream",
          "name": "stdout",
          "text": [
            "Berikut adalah Penelusuran Depth First (dimulai dari node 2)\n",
            "2 0 1 3 "
          ]
        }
      ],
      "source": [
        "# pyhton3 program to print DFS traversal\n",
        "# from a given graph\n",
        "from collections import defaultdict\n",
        "\n",
        "# Kelas ini merepresentasikan sebuah graf yang diarahkan\n",
        "# menggunakan representasi daftar kejadian\n",
        "class Graph:\n",
        "\n",
        "  # Konstruktor\n",
        "    def __init__(self):\n",
        "        # Kamus default untuk menyimpan graf\n",
        "        self.graph = defaultdict(list)\n",
        "\n",
        "  # Fungsi untuk menambahkan tepi ke graf\n",
        "    def addEdge(self, u, v):\n",
        "        self.graph[u].append(v)\n",
        "\n",
        "  # Fungsi yang digunakan oleh DFS\n",
        "    def DFSUtil(self, v, visited):\n",
        "        # Tandai node saat ini sebagai sudah dikunjungi\n",
        "        # dan cetak\n",
        "        visited.add(v)\n",
        "        print(v, end=' ')\n",
        "\n",
        "        # Panggil rekursif untuk semua titik ujung\n",
        "        # yang berdekatan dengan titik ini\n",
        "        for neighbour in self.graph[v]:\n",
        "            if neighbour not in visited:\n",
        "                self.DFSUtil(neighbour, visited)\n",
        " # Fungsi untuk melakukan penelusuran DFS. Ini menggunakan\n",
        " # DFSUtil() rekursif\n",
        "    def DFS(self, v):\n",
        "\n",
        "        # Buat himpunan untuk menyimpan node yang sudah dikunjungi\n",
        "        visited = set()\n",
        "\n",
        "        # Panggil fungsi bantu rekursif\n",
        "        # untuk mencetak penelusuran DFS\n",
        "        self.DFSUtil(v, visited)\n",
        "\n",
        "# Kode pengguna\n",
        "if __name__ == \"__main__\":\n",
        "    g = Graph()\n",
        "    g.addEdge(0, 1)\n",
        "    g.addEdge(0, 2)\n",
        "    g.addEdge(1, 2)\n",
        "    g.addEdge(2, 0)\n",
        "    g.addEdge(2, 3)\n",
        "    g.addEdge(3, 3)\n",
        "\n",
        "    print(\"Berikut adalah Penelusuran Depth First (dimulai dari node 2)\")\n",
        "\n",
        "    # Panggilan fungsi\n",
        "    g.DFS(2)\n",
        "# kode ini disumbangkan oleh Neelam\n",
        "\n"
      ]
    },
    {
      "cell_type": "code",
      "source": [
        "# BFS algorithm in Python\n",
        "\n",
        "import collections\n",
        "\n",
        "# BFS algorithm\n",
        "def bfs(graph, root):\n",
        "    visited, queue = set(), collections.deque([root])\n",
        "    visited.add(root)\n",
        "\n",
        "    while queue:\n",
        "        # Dequeue a vertex from queue\n",
        "        vertex = queue.popleft()\n",
        "        print(str(vertex) + \" \", end=\"\")\n",
        "\n",
        "        # If not visited, mark it as visited, and enqueue it\n",
        "        for neighbour in graph[vertex]:\n",
        "            if neighbour not in visited: # untuk node yang belum dikunjungi\n",
        "                visited.add(neighbour)\n",
        "                queue.append(neighbour)\n",
        "\n",
        "if __name__ == \"__main__\":\n",
        "    graph = {0: [1, 2], 1: [2], 2: [3], 3: [1, 2]}\n",
        "    print(\"Following is Breadth First Traversal: \")\n",
        "    bfs(graph, 0)\n"
      ],
      "metadata": {
        "colab": {
          "base_uri": "https://localhost:8080/"
        },
        "id": "SSVCQAQTxCj4",
        "outputId": "e1b10e58-6964-405e-db1e-1e9ecffb5580"
      },
      "execution_count": 8,
      "outputs": [
        {
          "output_type": "stream",
          "name": "stdout",
          "text": [
            "Following is Breadth First Traversal: \n",
            "0 1 2 3 "
          ]
        }
      ]
    },
    {
      "cell_type": "code",
      "source": [
        "# Python3 implementation of above approach\n",
        "\n",
        "# returns the minimum cost in a vector (if there are multiple goal states)\n",
        "def uniform_cost_search(goal, start):\n",
        "    # minimum cost upto goal state from starting\n",
        "    global graph, cost\n",
        "    answer = []\n",
        "\n",
        "    # create a priority queue\n",
        "    queue = []\n",
        "\n",
        "    # set the answer vector to max value\n",
        "    for i in range(len(goal)):\n",
        "        answer.append(10**8)\n",
        "\n",
        "    # insert the starting index\n",
        "    queue.append([0, start])\n",
        "\n",
        "    # map to store visited nodes\n",
        "    visited = {}\n",
        "\n",
        "    # count\n",
        "    count = 0\n",
        "\n",
        "    # while the queue is not empty\n",
        "    while len(queue) > 0:\n",
        "        # get the top element of the queue\n",
        "        queue = sorted(queue)\n",
        "        p = queue[-1]\n",
        "\n",
        "        # pop the element\n",
        "        del queue[-1]\n",
        "\n",
        "        # get the original value\n",
        "        p[0] *= -1\n",
        "\n",
        "        # check if the element is part of the goal list\n",
        "        if p[1] in goal:\n",
        "            # get the position\n",
        "            index = goal.index(p[1])\n",
        "\n",
        "            # if a new goal is reached\n",
        "            if answer[index] == 10**8:\n",
        "                count += 1\n",
        "\n",
        "            # if the cost is less\n",
        "            if answer[index] > p[0]:\n",
        "                answer[index] = p[0]\n",
        "\n",
        "            # pop the element\n",
        "            del queue[-1]\n",
        "\n",
        "            queue = sorted(queue)\n",
        "            if count == len(goal):\n",
        "                return answer\n",
        "\n",
        "        # check for the non-visited nodes which are adjacent to the present node\n",
        "        if p[1] not in visited:\n",
        "            for i in range(len(graph[p[1]])):\n",
        "                # value is multiplied by -1 so that least priority is at the top\n",
        "                queue.append([(p[0] + cost[(p[1], graph[p[1]][i])]) * -1, graph[p[1]][i]])\n",
        "\n",
        "        # mark as visited\n",
        "        visited[p[1]] = 1\n",
        "\n",
        "    return answer\n",
        "\n",
        "# main function\n",
        "if __name__ == '__main__':\n",
        "    # create the graph\n",
        "    graph, cost = [[] for i in range(8)], {}\n",
        "\n",
        "    # add edges\n",
        "    graph[0].append(1)\n",
        "    graph[0].append(3)\n",
        "    graph[3].append(1)\n",
        "    graph[3].append(6)\n",
        "    graph[3].append(4)\n",
        "    graph[1].append(6)\n",
        "    graph[4].append(5)\n",
        "    graph[2].append(5)\n",
        "    graph[5].append(6)\n",
        "    graph[6].append(4)\n",
        "\n",
        "    # add the cost\n",
        "    cost[(0, 1)] = 2\n",
        "    cost[(0, 3)] = 5\n",
        "    cost[(1, 6)] = 1\n",
        "    cost[(3, 1)] = 5\n",
        "    cost[(3, 6)] = 6\n",
        "    cost[(3, 4)] = 2\n",
        "    cost[(2, 1)] = 4\n",
        "    cost[(4, 2)] = 4\n",
        "    cost[(4, 5)] = 3\n",
        "    cost[(5, 2)] = 6\n",
        "    cost[(5, 6)] = 3\n",
        "    cost[(6, 4)] = 7\n",
        "\n",
        "    # goal state\n",
        "    goal = []\n",
        "\n",
        "    # set the goal\n",
        "    # there can be multiple goal states\n",
        "    goal.append(6)\n",
        "\n",
        "    # get the answer\n",
        "    answer = uniform_cost_search(goal, 0)\n",
        "\n",
        "    # print the answer\n",
        "    print(\"Minimum cost from 0 to 6 is =\", answer[0])\n"
      ],
      "metadata": {
        "colab": {
          "base_uri": "https://localhost:8080/"
        },
        "id": "pkFXCCody4SF",
        "outputId": "04c442a7-604a-4c06-ed2e-34cf3e48e204"
      },
      "execution_count": 11,
      "outputs": [
        {
          "output_type": "stream",
          "name": "stdout",
          "text": [
            "Minimum cost from 0 to 6 is = 3\n"
          ]
        }
      ]
    },
    {
      "cell_type": "code",
      "source": [
        "from queue import PriorityQueue\n",
        "\n",
        "# fungsi untuk algorit a greedey search\n",
        "def greedy_search(graph, start, goal):\n",
        "  frontier = PriorityQueue() # antrian prioritas untuk menyimpan simpul yang akan dieskplorasi\n",
        "  frontier.put(start, 0) # menambahkan simpul awal ke dalam antrian dengan nilai prioritas 0\n",
        "  explored = set() # set untuk menyimpan simpul yang sudah diekplorasi\n",
        "\n",
        "  while not frontier.empty():\n",
        "    current_node = frontier.get() # mengambil simpul dengan nilai prioritas terendah dari antrian\n",
        "\n",
        "    if current_node == goal:\n",
        "      print(\"Simpul tujuan sudah ditemukan!\")\n",
        "      return True # mengembalikan true jika simpul sudah ditemukan\n",
        "\n",
        "    explored.add(current_node) # menandai simpul saat ini sebagai sudah di eksplorasi\n",
        "\n",
        "    for neighbor in graph [current_node]:\n",
        "      if neighbor not in explored:\n",
        "        priority = heuristic[neighbor] # menggunakan nilai heuristik untuk menetukan prioritas\n",
        "        frontier.put(neighbor, priority) # menambahkan simpul tetangga ke dalam antrian dengan nilai prioritas heuristik\n",
        "\n",
        "  print(\"Simpul tujuan tidak ditemukan!\")\n",
        "  return False # mengembalikan false jika simpul tidak ditemukan\n",
        "\n",
        "# Daftar heuristik untuk setiap simpul\n",
        "heuristic = {\n",
        "    'A': 9,\n",
        "    'B': 4,\n",
        "    'C': 2,\n",
        "    'D': 5,\n",
        "    'E': 3,\n",
        "    'S': 7,\n",
        "    'G': 0\n",
        "}\n",
        "\n",
        "# Graf (dalam bentuk daftar kejadian)\n",
        "graph = {\n",
        "    'S': {'A', 'E'},\n",
        "    'A': {'B', 'C'},r\n",
        "    'B': {'D'},\n",
        "    'C': {'G'},\n",
        "    'D': {'G'},\n",
        "    'E': {'D'}\n",
        "}\n",
        "\n",
        "# Titik awal dan tujuan\n",
        "start_node = 'S'\n",
        "goal_node = 'G'\n",
        "\n",
        "# Panggil fungsi greedy search\n",
        "greedy_search(graph, start_node, goal_node)\n",
        ""
      ],
      "metadata": {
        "colab": {
          "base_uri": "https://localhost:8080/"
        },
        "id": "eaCwdnQxzXGf",
        "outputId": "8a1ecab7-042c-47f0-ce7d-b41e5805185c"
      },
      "execution_count": 10,
      "outputs": [
        {
          "output_type": "stream",
          "name": "stdout",
          "text": [
            "Simpul tujuan sudah ditemukan!\n"
          ]
        },
        {
          "output_type": "execute_result",
          "data": {
            "text/plain": [
              "True"
            ]
          },
          "metadata": {},
          "execution_count": 10
        }
      ]
    }
  ]
}